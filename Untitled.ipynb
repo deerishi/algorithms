{
 "cells": [
  {
   "cell_type": "code",
   "execution_count": 26,
   "metadata": {
    "collapsed": false
   },
   "outputs": [
    {
     "name": "stdout",
     "output_type": "stream",
     "text": [
      "['(1, 3)', '(3, 2)', '(1, 1)', '(4, 5)', '(6, 3)', '(9, 9)', '(8, 7)', '(7, 6)']\n",
      "i is  1  j is  3\n",
      "i is  3  j is  2\n",
      "i is  1  j is  1\n",
      "i is  4  j is  5\n",
      "i is  6  j is  3\n",
      "i is  9  j is  9\n",
      "i is  8  j is  7\n",
      "i is  7  j is  6\n"
     ]
    }
   ],
   "source": [
    "import numpy as np\n",
    "import matplotlib.pyplot as plt\n",
    "\n",
    "\n",
    "x=[1,3,1,4,6,9,8,7]\n",
    "y=[3,2,1,5,3,9,7,6]\n",
    "d=zip(x,y)\n",
    "l=[]\n",
    "for q in d:\n",
    "    l.append(str(q))\n",
    "print l\n",
    "plt.plot(x,y,'x')\n",
    "k=0\n",
    "for  i,j in d:\n",
    "    print 'i is ',i,' j is ',j\n",
    "    plt.annotate(xy=(i,j),s=l[k])\n",
    "    k+=1\n",
    "    \n",
    "plt.show()"
   ]
  }
 ],
 "metadata": {
  "kernelspec": {
   "display_name": "Python 2",
   "language": "python",
   "name": "python2"
  },
  "language_info": {
   "codemirror_mode": {
    "name": "ipython",
    "version": 2
   },
   "file_extension": ".py",
   "mimetype": "text/x-python",
   "name": "python",
   "nbconvert_exporter": "python",
   "pygments_lexer": "ipython2",
   "version": "2.7.6"
  }
 },
 "nbformat": 4,
 "nbformat_minor": 0
}
